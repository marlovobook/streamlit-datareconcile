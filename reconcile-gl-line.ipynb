{
 "cells": [
  {
   "cell_type": "code",
   "execution_count": 20,
   "metadata": {},
   "outputs": [],
   "source": [
    "import pandas as pd \n",
    "from athena_to_pd import athena_query\n",
    "import sqlite3\n",
    "#By Book\n",
    "from pathlib import Path\n",
    "import os\n",
    "import awswrangler as wr \n",
    "import boto3\n",
    "from datetime import datetime"
   ]
  },
  {
   "cell_type": "code",
   "execution_count": null,
   "metadata": {},
   "outputs": [],
   "source": [
    "pwd = os.getcwd()\n",
    "\n",
    "PROFILE = \"vej-book\"\n",
    "DATABASE = \"vtnlake_dev_curated_finance\" \n",
    "#SQLITE_PATH = \"../vtnlake_onedrive.db\"\n",
    "SQLITE_PATH = rf'D:\\Work\\SQLite\\vtnlake_onedrive.db' # Book's Labtop\n",
    "#SQLITE_PATH = rf'E:\\Work\\TradeSquare\\SQlite Test\\29102024\\vtnlake_onedrive.db' # Book's PC"
   ]
  },
  {
   "cell_type": "code",
   "execution_count": null,
   "metadata": {},
   "outputs": [
    {
     "data": {
      "text/plain": [
       "\"\\n    MIN(REPLACE(SUBSTR(file_name, 1, 19), 'T', ' ')) AS min_date,\\n    MAX(REPLACE(SUBSTR(file_name, 1, 19), 'T', ' ')) AS max_date\\n\""
      ]
     },
     "execution_count": 22,
     "metadata": {},
     "output_type": "execute_result"
    }
   ],
   "source": [
    "date_filter = athena_query(PROFILE, DATABASE,\"\"\"\n",
    "    select \n",
    "        min(date_format(parse_datetime(_file_updated_date,'yyyy-MM-dd''T''HH:mm:ss''Z'),'%Y-%m-%d %H:%i:%s')) AS min_date,\n",
    "        max(date_format(parse_datetime(_file_updated_date,'yyyy-MM-dd''T''HH:mm:ss''Z'),'%Y-%m-%d %H:%i:%s')) AS max_date\n",
    "        \n",
    "    from gl_line\n",
    "\"\"\")\n",
    "\n",
    "# SQLite\n",
    "# \"\"\"\n",
    "#     MIN(REPLACE(SUBSTR(file_name, 1, 19), 'T', ' ')) AS min_date,\n",
    "#     MAX(REPLACE(SUBSTR(file_name, 1, 19), 'T', ' ')) AS max_date\n",
    "# \"\"\""
   ]
  },
  {
   "cell_type": "code",
   "execution_count": 23,
   "metadata": {},
   "outputs": [
    {
     "name": "stdout",
     "output_type": "stream",
     "text": [
      "Min Date Filter:  2024-01-11 03:32:39\n",
      "Max Date Filter:  2024-10-17 07:40:41\n"
     ]
    }
   ],
   "source": [
    "df_date_filter = pd.DataFrame(date_filter, columns = date_filter.columns)\n",
    "min_date = df_date_filter.iloc[0, 0]\n",
    "max_date = df_date_filter.iloc[0, 1]\n",
    "\n",
    "print(\"Min Date Filter: \", min_date)\n",
    "print(\"Max Date Filter: \", max_date)\n"
   ]
  },
  {
   "cell_type": "code",
   "execution_count": 24,
   "metadata": {},
   "outputs": [],
   "source": [
    "'''\n",
    "Select DISTINCT script for Athena (only PK)\n",
    "'''\n",
    "\n",
    "# Read the SQL template file (Book's PC)\n",
    "with open(rf\"{pwd}/sql_template/gl_line/select_dis_gl_line_athena.sql\", \"r\") as file:\n",
    "    query_template = file.read()\n",
    "\n",
    "# Substitute placeholders with actual values\n",
    "query_gl_line = query_template.format(min_date=min_date, max_date=max_date)\n",
    "\n",
    "# Run the query with wr\n",
    "select_gl_line_athena = wr.athena.read_sql_query(sql=query_gl_line, \n",
    "        database=DATABASE,\n",
    "        boto3_session=boto3.session.Session(profile_name=PROFILE, region_name='ap-southeast-1')                      \n",
    "                              )\n",
    "\n",
    "##---------------------------------##\n",
    "#global variables for sqlite\n",
    "TABLE = \"gl_line_full\"\n",
    "\n",
    "'''\n",
    "Select DISTINCT script for SQLite (only PK)\n",
    "'''\n",
    "\n",
    "# Read the SQL template file\n",
    "with open(rf\"{pwd}/sql_template/gl_line/select_dis_gl_line_sqlite.sql\", \"r\") as file:\n",
    "    query_template = file.read()\n",
    "\n",
    "# Substitute placeholders with actual values\n",
    "SQLITE_QUERY = query_template.format(\n",
    "    TABLE=TABLE,\n",
    "    min_date=min_date,\n",
    "    max_date=max_date\n",
    ")    \n",
    "# Execute the query\n",
    "conn = sqlite3.connect(SQLITE_PATH)\n",
    "df_select_sqlite = pd.read_sql_query(SQLITE_QUERY, conn).add_suffix('_sqlite')\n",
    "conn.close()\n",
    "select_gl_line_sqlite = df_select_sqlite\n"
   ]
  },
  {
   "cell_type": "code",
   "execution_count": 10,
   "metadata": {},
   "outputs": [
    {
     "data": {
      "text/html": [
       "<div>\n",
       "<style scoped>\n",
       "    .dataframe tbody tr th:only-of-type {\n",
       "        vertical-align: middle;\n",
       "    }\n",
       "\n",
       "    .dataframe tbody tr th {\n",
       "        vertical-align: top;\n",
       "    }\n",
       "\n",
       "    .dataframe thead th {\n",
       "        text-align: right;\n",
       "    }\n",
       "</style>\n",
       "<table border=\"1\" class=\"dataframe\">\n",
       "  <thead>\n",
       "    <tr style=\"text-align: right;\">\n",
       "      <th></th>\n",
       "      <th>invoice_no_receipt_no</th>\n",
       "      <th>invoice_receipt_line_no</th>\n",
       "      <th>order_item_id</th>\n",
       "      <th>order_item_sub_id</th>\n",
       "    </tr>\n",
       "  </thead>\n",
       "  <tbody>\n",
       "    <tr>\n",
       "      <th>count</th>\n",
       "      <td>2948296</td>\n",
       "      <td>2948296</td>\n",
       "      <td>2948296</td>\n",
       "      <td>2948296</td>\n",
       "    </tr>\n",
       "    <tr>\n",
       "      <th>unique</th>\n",
       "      <td>212855</td>\n",
       "      <td>114051</td>\n",
       "      <td>1</td>\n",
       "      <td>1</td>\n",
       "    </tr>\n",
       "    <tr>\n",
       "      <th>top</th>\n",
       "      <td>CI67008915</td>\n",
       "      <td>42</td>\n",
       "      <td></td>\n",
       "      <td></td>\n",
       "    </tr>\n",
       "    <tr>\n",
       "      <th>freq</th>\n",
       "      <td>3951</td>\n",
       "      <td>14118</td>\n",
       "      <td>2948296</td>\n",
       "      <td>2948296</td>\n",
       "    </tr>\n",
       "  </tbody>\n",
       "</table>\n",
       "</div>"
      ],
      "text/plain": [
       "       invoice_no_receipt_no invoice_receipt_line_no order_item_id  \\\n",
       "count                2948296                 2948296       2948296   \n",
       "unique                212855                  114051             1   \n",
       "top               CI67008915                      42                 \n",
       "freq                    3951                   14118       2948296   \n",
       "\n",
       "       order_item_sub_id  \n",
       "count            2948296  \n",
       "unique                 1  \n",
       "top                       \n",
       "freq             2948296  "
      ]
     },
     "execution_count": 10,
     "metadata": {},
     "output_type": "execute_result"
    }
   ],
   "source": [
    "select_gl_line_athena.describe(include='all')"
   ]
  },
  {
   "cell_type": "code",
   "execution_count": 25,
   "metadata": {},
   "outputs": [
    {
     "data": {
      "text/html": [
       "<div>\n",
       "<style scoped>\n",
       "    .dataframe tbody tr th:only-of-type {\n",
       "        vertical-align: middle;\n",
       "    }\n",
       "\n",
       "    .dataframe tbody tr th {\n",
       "        vertical-align: top;\n",
       "    }\n",
       "\n",
       "    .dataframe thead th {\n",
       "        text-align: right;\n",
       "    }\n",
       "</style>\n",
       "<table border=\"1\" class=\"dataframe\">\n",
       "  <thead>\n",
       "    <tr style=\"text-align: right;\">\n",
       "      <th></th>\n",
       "      <th>invoice_no_receipt_no</th>\n",
       "      <th>invoice_receipt_line_no</th>\n",
       "      <th>order_item_id</th>\n",
       "      <th>order_item_sub_id</th>\n",
       "    </tr>\n",
       "  </thead>\n",
       "  <tbody>\n",
       "    <tr>\n",
       "      <th>count</th>\n",
       "      <td>2948296</td>\n",
       "      <td>2948296</td>\n",
       "      <td>2948296</td>\n",
       "      <td>2948296</td>\n",
       "    </tr>\n",
       "    <tr>\n",
       "      <th>unique</th>\n",
       "      <td>212855</td>\n",
       "      <td>114051</td>\n",
       "      <td>1</td>\n",
       "      <td>1</td>\n",
       "    </tr>\n",
       "    <tr>\n",
       "      <th>top</th>\n",
       "      <td>CI67008915</td>\n",
       "      <td>42</td>\n",
       "      <td>0</td>\n",
       "      <td>0</td>\n",
       "    </tr>\n",
       "    <tr>\n",
       "      <th>freq</th>\n",
       "      <td>3951</td>\n",
       "      <td>14118</td>\n",
       "      <td>2948296</td>\n",
       "      <td>2948296</td>\n",
       "    </tr>\n",
       "  </tbody>\n",
       "</table>\n",
       "</div>"
      ],
      "text/plain": [
       "       invoice_no_receipt_no invoice_receipt_line_no order_item_id  \\\n",
       "count                2948296                 2948296       2948296   \n",
       "unique                212855                  114051             1   \n",
       "top               CI67008915                      42             0   \n",
       "freq                    3951                   14118       2948296   \n",
       "\n",
       "       order_item_sub_id  \n",
       "count            2948296  \n",
       "unique                 1  \n",
       "top                    0  \n",
       "freq             2948296  "
      ]
     },
     "execution_count": 25,
     "metadata": {},
     "output_type": "execute_result"
    }
   ],
   "source": [
    "select_gl_line_athena.describe(include='all')"
   ]
  },
  {
   "cell_type": "code",
   "execution_count": null,
   "metadata": {},
   "outputs": [],
   "source": [
    "# #select gl_line_athena where order_item_id is null or blank\n",
    "# select_gl_line_athena_null = select_gl_line_athena[select_gl_line_athena['order_item_id'].isnull()]\n",
    "# select_gl_line_athena_blank = select_gl_line_athena[select_gl_line_athena['order_item_id'] == '']"
   ]
  },
  {
   "cell_type": "code",
   "execution_count": 30,
   "metadata": {},
   "outputs": [],
   "source": [
    "#sqlite\n",
    "select_gl_line_sqlite.sort_values(by=['invoice_no_receipt_no_sqlite', 'invoice_receipt_line_no_sqlite', 'order_item_id_sqlite', 'order_item_sub_id_sqlite'], inplace=True)\n",
    "select_gl_line_sqlite.reset_index(drop=True, inplace=True)\n",
    "#athena\n",
    "select_gl_line_athena.sort_values(by=['invoice_no_receipt_no', 'invoice_receipt_line_no', 'order_item_id', 'order_item_sub_id'], inplace=True)\n",
    "select_gl_line_athena.reset_index(drop=True, inplace=True)\n",
    "\n",
    "#Concat dataframe for Reconcilation\n",
    "df_reconcile = pd.concat([select_gl_line_sqlite, select_gl_line_athena], axis=1)\n",
    "\n",
    "#check status if suffix sqlite is match with athena using lambda for each column and row\n",
    "df_reconcile['invoice_no_receipt_no_status'] = df_reconcile.apply(lambda x: 'Match' if x['invoice_no_receipt_no_sqlite'] == x['invoice_no_receipt_no'] else 'Mismatch', axis=1)\n",
    "df_reconcile['invoice_receipt_line_no_status'] = df_reconcile.apply(lambda x: 'Match' if x['invoice_receipt_line_no_sqlite'] == x['invoice_receipt_line_no'] else 'Mismatch', axis=1)\n",
    "df_reconcile['order_item_id_status'] = df_reconcile.apply(lambda x: 'Match' if x['order_item_id_sqlite'] == x['order_item_id'] else 'Mismatch', axis=1)\n",
    "df_reconcile['order_item_sub_id_status'] = df_reconcile.apply(lambda x: 'Match' if x['order_item_sub_id_sqlite'] == x['order_item_sub_id'] else 'Mismatch', axis=1)\n",
    "df_reconcile['status'] = df_reconcile.apply(lambda x: 'Match' if x['invoice_no_receipt_no_sqlite'] == x['invoice_no_receipt_no'] and x['invoice_receipt_line_no_sqlite'] == x['invoice_receipt_line_no'] and x['order_item_id_sqlite'] == x['order_item_id'] and x['order_item_sub_id_sqlite'] == x['order_item_sub_id'] else 'Mismatch', axis=1)\n",
    "\n",
    "# df_reconcile[df_reconcile['status'] == 'Mismatch']"
   ]
  },
  {
   "cell_type": "markdown",
   "metadata": {},
   "source": [
    "## Describe Statistics"
   ]
  },
  {
   "cell_type": "code",
   "execution_count": 32,
   "metadata": {},
   "outputs": [],
   "source": [
    "stat_gl_line_sqlite =  pd.DataFrame(select_gl_line_sqlite.describe(include='all'))\n",
    "\n",
    "\n",
    "# Convert all string values to hashed integers in a copy of the DataFrame\n",
    "hashed_df = select_gl_line_sqlite.apply(lambda col: col.map(lambda x: hash(x) if isinstance(x, str) else x))\n",
    "\n",
    "'''\n",
    "SUM HASHED\n",
    "'''\n",
    "# Calculate the sum of each column and convert to a DataFrame row\n",
    "sum_gl_line_sqlite = hashed_df.sum().to_frame().T\n",
    "sum_gl_line_sqlite.index = [\"sum_hashed\"] \n",
    "\n",
    "'''\n",
    "AVG HASHED\n",
    "'''\n",
    "avg_gl_line_sqlite = hashed_df.mean().to_frame().T\n",
    "avg_gl_line_sqlite.index = [\"avg_hashed\"]\n",
    "\n",
    "'''\n",
    "MIN HASHED\n",
    "'''\n",
    "min_gl_line_sqlite = hashed_df.min().to_frame().T\n",
    "min_gl_line_sqlite.index = [\"min_hashed\"]\n",
    "\n",
    "'''\n",
    "MAX HASHED\n",
    "'''\n",
    "max_gl_line_sqlite = hashed_df.max().to_frame().T\n",
    "max_gl_line_sqlite.index = [\"max_hashed\"]\n",
    "\n",
    "# Concatenate the statistics DataFrames\n",
    "stat_select_gl_line_sqlite = pd.concat([stat_gl_line_sqlite, sum_gl_line_sqlite, avg_gl_line_sqlite, min_gl_line_sqlite, max_gl_line_sqlite], axis=0)\n"
   ]
  },
  {
   "cell_type": "code",
   "execution_count": 33,
   "metadata": {},
   "outputs": [],
   "source": [
    "# Athena Statistics\n",
    "\n",
    "stat_gl_line_athena =  pd.DataFrame(select_gl_line_athena.describe(include='all'))\n",
    "\n",
    "\n",
    "# Convert all string values to hashed integers in a copy of the DataFrame\n",
    "hashed_df = select_gl_line_athena.apply(lambda col: col.map(lambda x: hash(x) if isinstance(x, str) else x))\n",
    "\n",
    "'''\n",
    "SUM HASHED\n",
    "'''\n",
    "# Calculate the sum of each column and convert to a DataFrame row\n",
    "sum_gl_line_athena = hashed_df.sum().to_frame().T\n",
    "sum_gl_line_athena.index = [\"sum_hashed\"] \n",
    "\n",
    "'''\n",
    "AVG HASHED\n",
    "'''\n",
    "avg_gl_line_athena = hashed_df.mean().to_frame().T\n",
    "avg_gl_line_athena.index = [\"avg_hashed\"]\n",
    "\n",
    "'''\n",
    "MIN HASHED\n",
    "'''\n",
    "min_gl_line_athena = hashed_df.min().to_frame().T\n",
    "min_gl_line_athena.index = [\"min_hashed\"]\n",
    "\n",
    "'''\n",
    "MAX HASHED\n",
    "'''\n",
    "max_gl_line_athena = hashed_df.max().to_frame().T\n",
    "max_gl_line_athena.index = [\"max_hashed\"]\n",
    "\n",
    "# Concatenate the statistics DataFrames\n",
    "stat_select_gl_line_athena = pd.concat([stat_gl_line_athena, sum_gl_line_athena, avg_gl_line_athena, min_gl_line_athena, max_gl_line_athena], axis=0)\n",
    "\n"
   ]
  },
  {
   "cell_type": "code",
   "execution_count": 34,
   "metadata": {},
   "outputs": [],
   "source": [
    "# Compare statistics between SQLite and Athena\n",
    "stat_reconclie = pd.concat([stat_select_gl_line_sqlite, stat_select_gl_line_athena], axis=1)\n",
    "\n",
    "\n",
    "#check status if suffix sqlite is match with athena using lambda for each column and row\n",
    "stat_reconclie['invoice_no_receipt_no_status'] = stat_reconclie.apply(lambda x: 'Match' if x['invoice_no_receipt_no_sqlite'] == x['invoice_no_receipt_no'] else 'Mismatch', axis=1)\n",
    "stat_reconclie['invoice_receipt_line_no_status'] = stat_reconclie.apply(lambda x: 'Match' if x['invoice_receipt_line_no_sqlite'] == x['invoice_receipt_line_no'] else 'Mismatch', axis=1)\n",
    "stat_reconclie['order_item_id_status'] = stat_reconclie.apply(lambda x: 'Match' if x['order_item_id_sqlite'] == x['order_item_id'] else 'Mismatch', axis=1)\n",
    "stat_reconclie['order_item_sub_id_status'] = stat_reconclie.apply(lambda x: 'Match' if x['order_item_sub_id_sqlite'] == x['order_item_sub_id'] else 'Mismatch', axis=1)\n",
    "stat_reconclie['status'] = stat_reconclie.apply(lambda x: 'Match' if x['invoice_no_receipt_no_sqlite'] == x['invoice_no_receipt_no'] and x['invoice_receipt_line_no_sqlite'] == x['invoice_receipt_line_no'] and x['order_item_id_sqlite'] == x['order_item_id'] and x['order_item_sub_id_sqlite'] == x['order_item_sub_id'] else 'Mismatch', axis=1)\n"
   ]
  },
  {
   "cell_type": "code",
   "execution_count": 38,
   "metadata": {},
   "outputs": [],
   "source": [
    "### export to .csv file with sheets for each type of reconcilation\n",
    "current_date = datetime.now().strftime('%Y%m%d')\n",
    "# output_path = rf\"{pwd}/report/{current_date}_gl_line_reconcile.xlsx\"\n",
    "# with pd.ExcelWriter(output_path) as writer:  \n",
    "#     df_reconcile.to_excel(writer, sheet_name='Data Reconcile', index=False)\n",
    "#     stat_reconclie.to_excel(writer, sheet_name='Stat Reconcile', index=True)\n",
    "\n",
    "output_path_df = rf\"{pwd}/report/{current_date}_df_gl_line_reconcile.csv\"\n",
    "output_path_stat = rf\"{pwd}/report/{current_date}_stat_gl_line_reconcile.csv\"\n",
    "# Export each dataframe to .csv file\n",
    "df_reconcile.to_csv(output_path_df,index=False)\n",
    "stat_reconclie.to_csv(output_path_stat, index=True)\n"
   ]
  },
  {
   "cell_type": "code",
   "execution_count": null,
   "metadata": {},
   "outputs": [],
   "source": []
  }
 ],
 "metadata": {
  "kernelspec": {
   "display_name": "venv",
   "language": "python",
   "name": "python3"
  },
  "language_info": {
   "codemirror_mode": {
    "name": "ipython",
    "version": 3
   },
   "file_extension": ".py",
   "mimetype": "text/x-python",
   "name": "python",
   "nbconvert_exporter": "python",
   "pygments_lexer": "ipython3",
   "version": "3.11.3"
  }
 },
 "nbformat": 4,
 "nbformat_minor": 2
}
